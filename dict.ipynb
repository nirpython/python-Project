{
  "nbformat": 4,
  "nbformat_minor": 0,
  "metadata": {
    "colab": {
      "name": "dict.ipynb",
      "provenance": [],
      "collapsed_sections": []
    },
    "kernelspec": {
      "name": "python3",
      "display_name": "Python 3"
    }
  },
  "cells": [
    {
      "cell_type": "markdown",
      "metadata": {
        "id": "uAUM9w_4C-2_",
        "colab_type": "text"
      },
      "source": [
        "## dictinary is mutable in nature\n",
        "- it always come on key and values\n",
        "- the key and values are are sepreted by colon(:)\n",
        "- all the items are present in dictinory it sepreated by comma(,)\n",
        "- it is represented by {} breacket "
      ]
    },
    {
      "cell_type": "code",
      "metadata": {
        "id": "Vrnf75cyDBuw",
        "colab_type": "code",
        "colab": {
          "base_uri": "https://localhost:8080/",
          "height": 35
        },
        "outputId": "38cb71cc-8f49-42ed-ad2f-222e1ac56fe6"
      },
      "source": [
        "# taking a Empty dict\n",
        "d = {}\n",
        "type(d) "
      ],
      "execution_count": 1,
      "outputs": [
        {
          "output_type": "execute_result",
          "data": {
            "text/plain": [
              "dict"
            ]
          },
          "metadata": {
            "tags": []
          },
          "execution_count": 1
        }
      ]
    },
    {
      "cell_type": "code",
      "metadata": {
        "id": "QyWuMt2ADG1B",
        "colab_type": "code",
        "colab": {
          "base_uri": "https://localhost:8080/",
          "height": 105
        },
        "outputId": "31d73aa1-246f-47c9-ae23-ba251e39ca0e"
      },
      "source": [
        "d = {\"name\": \"sai\",\"roll no\": 105455,\n",
        "     \" age\": 31, \"address\": \"Atp\",\n",
        "     \"university\": \"Jntua\"}\n",
        "\n",
        "d     \n"
      ],
      "execution_count": 3,
      "outputs": [
        {
          "output_type": "execute_result",
          "data": {
            "text/plain": [
              "{' age': 31,\n",
              " 'address': 'Atp',\n",
              " 'name': 'sai',\n",
              " 'roll no': 105455,\n",
              " 'university': 'Jntua'}"
            ]
          },
          "metadata": {
            "tags": []
          },
          "execution_count": 3
        }
      ]
    },
    {
      "cell_type": "code",
      "metadata": {
        "id": "P6cIba0bDKw5",
        "colab_type": "code",
        "colab": {
          "base_uri": "https://localhost:8080/",
          "height": 35
        },
        "outputId": "c7c15ae2-f2a0-457f-9f1d-5aedd7f5abe7"
      },
      "source": [
        "len(d)"
      ],
      "execution_count": 4,
      "outputs": [
        {
          "output_type": "execute_result",
          "data": {
            "text/plain": [
              "5"
            ]
          },
          "metadata": {
            "tags": []
          },
          "execution_count": 4
        }
      ]
    },
    {
      "cell_type": "code",
      "metadata": {
        "id": "XDxMt_6sDYQC",
        "colab_type": "code",
        "colab": {}
      },
      "source": [
        "d[\"age\"]=99"
      ],
      "execution_count": 0,
      "outputs": []
    },
    {
      "cell_type": "code",
      "metadata": {
        "id": "IOakmS_zDtv7",
        "colab_type": "code",
        "colab": {
          "base_uri": "https://localhost:8080/",
          "height": 123
        },
        "outputId": "7b266e1c-e3f1-4633-ad26-18781f2e6971"
      },
      "source": [
        "d"
      ],
      "execution_count": 9,
      "outputs": [
        {
          "output_type": "execute_result",
          "data": {
            "text/plain": [
              "{' age': 31,\n",
              " 'address': 'Atp',\n",
              " 'age': 99,\n",
              " 'name': 'sai',\n",
              " 'roll no': 105455,\n",
              " 'university': 'Jntua'}"
            ]
          },
          "metadata": {
            "tags": []
          },
          "execution_count": 9
        }
      ]
    },
    {
      "cell_type": "code",
      "metadata": {
        "id": "mT_cuGVxEOOZ",
        "colab_type": "code",
        "colab": {
          "base_uri": "https://localhost:8080/",
          "height": 90
        },
        "outputId": "ad91586d-a4a9-4bc8-9c79-47fcde22180b"
      },
      "source": [
        "print(d.items())\n",
        "print(len(d))\n",
        "d['roll no']"
      ],
      "execution_count": 30,
      "outputs": [
        {
          "output_type": "stream",
          "text": [
            "dict_items([('name', 'sai'), ('roll no', 105455), (' age', 31), ('address', 'Atp'), ('university', 'Jntua'), ('branch', 'ECE')])\n",
            "6\n"
          ],
          "name": "stdout"
        },
        {
          "output_type": "execute_result",
          "data": {
            "text/plain": [
              "105455"
            ]
          },
          "metadata": {
            "tags": []
          },
          "execution_count": 30
        }
      ]
    },
    {
      "cell_type": "code",
      "metadata": {
        "id": "qzIBToO4EXLf",
        "colab_type": "code",
        "colab": {
          "base_uri": "https://localhost:8080/",
          "height": 35
        },
        "outputId": "dd961512-2ed3-4fe5-cbb4-cf77a6856ab8"
      },
      "source": [
        "d.keys()"
      ],
      "execution_count": 13,
      "outputs": [
        {
          "output_type": "execute_result",
          "data": {
            "text/plain": [
              "dict_keys(['name', 'roll no', ' age', 'address', 'university', 'age'])"
            ]
          },
          "metadata": {
            "tags": []
          },
          "execution_count": 13
        }
      ]
    },
    {
      "cell_type": "code",
      "metadata": {
        "id": "mQBumP4MEwjU",
        "colab_type": "code",
        "colab": {
          "base_uri": "https://localhost:8080/",
          "height": 35
        },
        "outputId": "57feff41-741f-4015-c2f4-9d0eb555b684"
      },
      "source": [
        "d.values()"
      ],
      "execution_count": 14,
      "outputs": [
        {
          "output_type": "execute_result",
          "data": {
            "text/plain": [
              "dict_values(['sai', 105455, 31, 'Atp', 'Jntua', 99])"
            ]
          },
          "metadata": {
            "tags": []
          },
          "execution_count": 14
        }
      ]
    },
    {
      "cell_type": "code",
      "metadata": {
        "id": "n1ADbP60E3Ey",
        "colab_type": "code",
        "colab": {}
      },
      "source": [
        "d1 = d.copy()"
      ],
      "execution_count": 0,
      "outputs": []
    },
    {
      "cell_type": "code",
      "metadata": {
        "id": "TZzGbu7DFONf",
        "colab_type": "code",
        "colab": {
          "base_uri": "https://localhost:8080/",
          "height": 123
        },
        "outputId": "e9f0a238-235c-4153-8ff1-8b0e32c5bd71"
      },
      "source": [
        "d1"
      ],
      "execution_count": 16,
      "outputs": [
        {
          "output_type": "execute_result",
          "data": {
            "text/plain": [
              "{' age': 31,\n",
              " 'address': 'Atp',\n",
              " 'age': 99,\n",
              " 'name': 'sai',\n",
              " 'roll no': 105455,\n",
              " 'university': 'Jntua'}"
            ]
          },
          "metadata": {
            "tags": []
          },
          "execution_count": 16
        }
      ]
    },
    {
      "cell_type": "code",
      "metadata": {
        "id": "31iMOM5IFP6x",
        "colab_type": "code",
        "colab": {}
      },
      "source": [
        "d.update({\"branch\": \"ECE\"})"
      ],
      "execution_count": 0,
      "outputs": []
    },
    {
      "cell_type": "code",
      "metadata": {
        "id": "s-QarOMFFkrE",
        "colab_type": "code",
        "colab": {
          "base_uri": "https://localhost:8080/",
          "height": 140
        },
        "outputId": "e8d06c94-0789-4725-dda4-39fb58759785"
      },
      "source": [
        "d"
      ],
      "execution_count": 18,
      "outputs": [
        {
          "output_type": "execute_result",
          "data": {
            "text/plain": [
              "{' age': 31,\n",
              " 'address': 'Atp',\n",
              " 'age': 99,\n",
              " 'branch': 'ECE',\n",
              " 'name': 'sai',\n",
              " 'roll no': 105455,\n",
              " 'university': 'Jntua'}"
            ]
          },
          "metadata": {
            "tags": []
          },
          "execution_count": 18
        }
      ]
    },
    {
      "cell_type": "code",
      "metadata": {
        "id": "SDHB5H_iFopv",
        "colab_type": "code",
        "colab": {
          "base_uri": "https://localhost:8080/",
          "height": 167
        },
        "outputId": "ebaba428-4eef-4c86-fb4a-72b4804ccaa6"
      },
      "source": [
        "d.pop(\"age\")"
      ],
      "execution_count": 25,
      "outputs": [
        {
          "output_type": "error",
          "ename": "KeyError",
          "evalue": "ignored",
          "traceback": [
            "\u001b[0;31m---------------------------------------------------------------------------\u001b[0m",
            "\u001b[0;31mKeyError\u001b[0m                                  Traceback (most recent call last)",
            "\u001b[0;32m<ipython-input-25-29b511e2f4a4>\u001b[0m in \u001b[0;36m<module>\u001b[0;34m()\u001b[0m\n\u001b[0;32m----> 1\u001b[0;31m \u001b[0md\u001b[0m\u001b[0;34m.\u001b[0m\u001b[0mpop\u001b[0m\u001b[0;34m(\u001b[0m\u001b[0;34m\"age\"\u001b[0m\u001b[0;34m)\u001b[0m\u001b[0;34m\u001b[0m\u001b[0;34m\u001b[0m\u001b[0m\n\u001b[0m",
            "\u001b[0;31mKeyError\u001b[0m: 'age'"
          ]
        }
      ]
    },
    {
      "cell_type": "code",
      "metadata": {
        "id": "iWp2No78GQMM",
        "colab_type": "code",
        "colab": {
          "base_uri": "https://localhost:8080/",
          "height": 123
        },
        "outputId": "a0914b52-bd7d-4724-dbd7-237cca10bd12"
      },
      "source": [
        "d"
      ],
      "execution_count": 20,
      "outputs": [
        {
          "output_type": "execute_result",
          "data": {
            "text/plain": [
              "{' age': 31,\n",
              " 'address': 'Atp',\n",
              " 'branch': 'ECE',\n",
              " 'name': 'sai',\n",
              " 'roll no': 105455,\n",
              " 'university': 'Jntua'}"
            ]
          },
          "metadata": {
            "tags": []
          },
          "execution_count": 20
        }
      ]
    },
    {
      "cell_type": "code",
      "metadata": {
        "id": "-gOrwvvjGS5T",
        "colab_type": "code",
        "colab": {}
      },
      "source": [
        " d1.clear()"
      ],
      "execution_count": 0,
      "outputs": []
    },
    {
      "cell_type": "code",
      "metadata": {
        "id": "U8Dh2Q4_GnRu",
        "colab_type": "code",
        "colab": {
          "base_uri": "https://localhost:8080/",
          "height": 35
        },
        "outputId": "7a6cbf34-1643-4b55-e92e-eb89956531c3"
      },
      "source": [
        "d1"
      ],
      "execution_count": 22,
      "outputs": [
        {
          "output_type": "execute_result",
          "data": {
            "text/plain": [
              "{}"
            ]
          },
          "metadata": {
            "tags": []
          },
          "execution_count": 22
        }
      ]
    },
    {
      "cell_type": "code",
      "metadata": {
        "id": "fbjtfLZqGrnH",
        "colab_type": "code",
        "colab": {}
      },
      "source": [
        "del d1"
      ],
      "execution_count": 0,
      "outputs": []
    },
    {
      "cell_type": "code",
      "metadata": {
        "id": "RLAWfzM9Gxid",
        "colab_type": "code",
        "colab": {
          "base_uri": "https://localhost:8080/",
          "height": 167
        },
        "outputId": "cc05878d-79bc-460b-c44d-994c11ae6bac"
      },
      "source": [
        "d1"
      ],
      "execution_count": 24,
      "outputs": [
        {
          "output_type": "error",
          "ename": "NameError",
          "evalue": "ignored",
          "traceback": [
            "\u001b[0;31m---------------------------------------------------------------------------\u001b[0m",
            "\u001b[0;31mNameError\u001b[0m                                 Traceback (most recent call last)",
            "\u001b[0;32m<ipython-input-24-2d3a24957153>\u001b[0m in \u001b[0;36m<module>\u001b[0;34m()\u001b[0m\n\u001b[0;32m----> 1\u001b[0;31m \u001b[0md1\u001b[0m\u001b[0;34m\u001b[0m\u001b[0;34m\u001b[0m\u001b[0m\n\u001b[0m",
            "\u001b[0;31mNameError\u001b[0m: name 'd1' is not defined"
          ]
        }
      ]
    },
    {
      "cell_type": "code",
      "metadata": {
        "id": "B8qCzBPAG0No",
        "colab_type": "code",
        "colab": {}
      },
      "source": [
        "Project Name(Application name- Contact APP)\n",
        "Add a contact detail\n",
        "Search the contact details\n",
        "Modify the contact detail\n",
        "To delete the contact detail"
      ],
      "execution_count": 0,
      "outputs": []
    },
    {
      "cell_type": "code",
      "metadata": {
        "id": "R_UC1F2dY6e_",
        "colab_type": "code",
        "colab": {}
      },
      "source": [
        ""
      ],
      "execution_count": 0,
      "outputs": []
    },
    {
      "cell_type": "code",
      "metadata": {
        "id": "k73Kv15JJC7Q",
        "colab_type": "code",
        "colab": {}
      },
      "source": [
        "contact= {} # Empty dict object is taken\n",
        "#Lets create a function to add a contact details\n",
        "def addContact(name,phone):\n",
        "    return\n",
        "addContact('sumathi','4584557824')"
      ],
      "execution_count": 0,
      "outputs": []
    },
    {
      "cell_type": "code",
      "metadata": {
        "id": "5jLRDWYKKbGB",
        "colab_type": "code",
        "colab": {
          "base_uri": "https://localhost:8080/",
          "height": 87
        },
        "outputId": "1735b97e-00ec-43fe-f750-bd19e810379a"
      },
      "source": [
        "contacts = {} # Empty Dict Object\n",
        "# Let's Create a function to Add Contact Details\n",
        "def addContact(name,phone):\n",
        "    if name not in contacts:#Cond to Check name is exists or not\n",
        "        contacts[name] = phone\n",
        "        print('Contact Details are added successfully')\n",
        "    else:\n",
        "        print('Name is already exists') \n",
        "    return\n",
        "addContact('sai','9966554411')\n",
        "addContact('sumathi','123456789')\n",
        "addContact('teja','9966552244')\n",
        "addContact('sai','9966554411')"
      ],
      "execution_count": 28,
      "outputs": [
        {
          "output_type": "stream",
          "text": [
            "Contact Details are added successfully\n",
            "Contact Details are added successfully\n",
            "Contact Details are added successfully\n",
            "Name is already exists\n"
          ],
          "name": "stdout"
        }
      ]
    },
    {
      "cell_type": "code",
      "metadata": {
        "id": "HcKZcyrzKkbN",
        "colab_type": "code",
        "colab": {
          "base_uri": "https://localhost:8080/",
          "height": 70
        },
        "outputId": "44475908-2f5c-4914-dae5-d8f4442fcd5b"
      },
      "source": [
        "def searchContact(name):\n",
        "    if name in contacts:\n",
        "        print(name, \" :  \",contacts[name])\n",
        "    else:\n",
        "        print(name,'does not present' )\n",
        "    return\n",
        "searchContact('sai')\n",
        "searchContact('sumathi')\n",
        "searchContact('sagar')"
      ],
      "execution_count": 34,
      "outputs": [
        {
          "output_type": "stream",
          "text": [
            "sai  :   9966554411\n",
            "sumathi  :   123456789\n",
            "sagar does not present\n"
          ],
          "name": "stdout"
        }
      ]
    },
    {
      "cell_type": "code",
      "metadata": {
        "id": "jw2myLl6O0f2",
        "colab_type": "code",
        "colab": {}
      },
      "source": [
        "def searchContact(name):\n",
        "    return\n",
        "searchContact(\"sumathi\")"
      ],
      "execution_count": 0,
      "outputs": []
    },
    {
      "cell_type": "code",
      "metadata": {
        "id": "RGrzCUa7U-dg",
        "colab_type": "code",
        "colab": {}
      },
      "source": [
        "def modify(name, phone):\n",
        "searchContact(\"sumathi\" : 9999999999)\n"
      ],
      "execution_count": 0,
      "outputs": []
    },
    {
      "cell_type": "code",
      "metadata": {
        "id": "6QryDot2V8Xq",
        "colab_type": "code",
        "colab": {
          "base_uri": "https://localhost:8080/",
          "height": 52
        },
        "outputId": "97a88ae1-4dc5-45cc-d9f9-bfb5c7d4a538"
      },
      "source": [
        "def modifyContact(name,phone):\n",
        "    if name in contacts:\n",
        "        contacts[name] = phone\n",
        "        print(name,'Updated Successfully')\n",
        "    else:\n",
        "        print(name,'Not exists')\n",
        "    return\n",
        "modifyContact('anju',9876543210)\n",
        "modifyContact('sumathi',6541236540)"
      ],
      "execution_count": 35,
      "outputs": [
        {
          "output_type": "stream",
          "text": [
            "anju Not exists\n",
            "sumathi Updated Successfully\n"
          ],
          "name": "stdout"
        }
      ]
    },
    {
      "cell_type": "code",
      "metadata": {
        "id": "M79KMJEpWFXI",
        "colab_type": "code",
        "colab": {
          "base_uri": "https://localhost:8080/",
          "height": 52
        },
        "outputId": "ce818896-dee7-46ac-acc9-74e86d6277f2"
      },
      "source": [
        "def DeleteContact(name):\n",
        "    if name in contacts:\n",
        "        del contacts[name]\n",
        "        print(name,'deleted contact Successfully')\n",
        "    else:\n",
        "        print(name,'Not exists')\n",
        "    return\n",
        "DeleteContact(\"sumathi\")\n",
        "DeleteContact(\"niraj\")"
      ],
      "execution_count": 37,
      "outputs": [
        {
          "output_type": "stream",
          "text": [
            "sumathi Not exists\n",
            "niraj Not exists\n"
          ],
          "name": "stdout"
        }
      ]
    },
    {
      "cell_type": "code",
      "metadata": {
        "id": "_EVCOQq-ZnQ8",
        "colab_type": "code",
        "colab": {}
      },
      "source": [
        ""
      ],
      "execution_count": 0,
      "outputs": []
    }
  ]
}